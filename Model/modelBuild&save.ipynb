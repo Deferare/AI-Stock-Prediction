{
 "cells": [
  {
   "cell_type": "code",
   "execution_count": 14,
   "id": "608612c6",
   "metadata": {},
   "outputs": [],
   "source": [
    "import matplotlib.pyplot as plt\n",
    "import numpy as np\n",
    "import tensorflow as tf\n",
    "import pandas as pd\n",
    "from PIL import Image\n",
    "from sklearn.model_selection import train_test_split\n",
    "from tensorflow.keras import layers\n",
    "from tensorflow.keras.models import Sequential\n",
    "import sys, os"
   ]
  },
  {
   "cell_type": "code",
   "execution_count": 15,
   "id": "8eead81c",
   "metadata": {
    "scrolled": true
   },
   "outputs": [
    {
     "name": "stdout",
     "output_type": "stream",
     "text": [
      "      0\n",
      "0     0\n",
      "1     0\n",
      "2     0\n",
      "3     1\n",
      "4     1\n",
      "...  ..\n",
      "4573  0\n",
      "4574  0\n",
      "4575  1\n",
      "4576  1\n",
      "4577  1\n",
      "\n",
      "[4578 rows x 1 columns]\n"
     ]
    },
    {
     "data": {
      "image/png": "[encoded data removed]",
      "text/plain": [
       "<Figure size 432x288 with 1 Axes>"
      ]
     },
     "metadata": {
      "needs_background": "light"
     },
     "output_type": "display_data"
    },
    {
     "name": "stdout",
     "output_type": "stream",
     "text": [
      "(4578, 138, 256, 3)\n",
      "(4578,)\n",
      "(3662, 138, 256, 3)   (3662,)\n"
     ]
    }
   ],
   "source": [
    "# Data load\n",
    "\n",
    "sys.setrecursionlimit(100000)\n",
    "\n",
    "lable_path = \"C:/Users/ad/Desktop/Github/AI-Stock-Prediction/ImageData/Lables/Lables.xlsx\"\n",
    "labels = pd.read_excel(lable_path)\n",
    "images = []\n",
    "\n",
    "print(labels)\n",
    "\n",
    "for i in range(len(labels)):\n",
    "    image_path = f\"C:/Users/ad/Desktop/Github/AI-Stock-Prediction/ImageData/Features/{i}.jpg\"\n",
    "    image = Image.open(image_path)\n",
    "    image = Image.Image.resize(image,(256,138))\n",
    "    images.append(np.array(image)/255)\n",
    "plt.imshow(images[10])\n",
    "plt.show()\n",
    "\n",
    "images = np.array(images)\n",
    "labels = np.array(labels).reshape(-1,)\n",
    "print(images.shape)\n",
    "print(labels.shape)\n",
    "X_train, X_test, y_train, y_test = train_test_split(images, labels, test_size=0.2, random_state=1)\n",
    "print(X_train.shape, \" \", y_train.shape)"
   ]
  },
  {
   "cell_type": "code",
   "execution_count": 19,
   "id": "68c827b1",
   "metadata": {},
   "outputs": [
    {
     "name": "stdout",
     "output_type": "stream",
     "text": [
      "Epoch 1/10\n"
     ]
    },
    {
     "name": "stderr",
     "output_type": "stream",
     "text": [
      "C:\\ProgramData\\Anaconda3\\envs\\Tensorflow\\lib\\site-packages\\tensorflow\\python\\keras\\backend.py:5029: UserWarning: \"`binary_crossentropy` received `from_logits=True`, but the `output` argument was produced by a sigmoid or softmax activation and thus does not represent logits. Was this intended?\"\n",
      "  warnings.warn(\n"
     ]
    },
    {
     "name": "stdout",
     "output_type": "stream",
     "text": [
      "367/367 [==============================] - 24s 63ms/step - loss: 0.6443 - acc: 0.6060 0s - loss: 0.6462 - acc\n",
      "Epoch 2/10\n",
      "367/367 [==============================] - 19s 51ms/step - loss: 0.5996 - acc: 0.6526\n",
      "Epoch 3/10\n",
      "367/367 [==============================] - 19s 51ms/step - loss: 0.5509 - acc: 0.6983\n",
      "Epoch 4/10\n",
      "367/367 [==============================] - 18s 50ms/step - loss: 0.4748 - acc: 0.7523 0s - loss: 0.4718 -\n",
      "Epoch 5/10\n",
      "367/367 [==============================] - 19s 53ms/step - loss: 0.3375 - acc: 0.8433 0s - loss: 0.3374 - \n",
      "Epoch 6/10\n",
      "367/367 [==============================] - 19s 51ms/step - loss: 0.2106 - acc: 0.9028\n",
      "Epoch 7/10\n",
      "367/367 [==============================] - 18s 50ms/step - loss: 0.1121 - acc: 0.9558\n",
      "Epoch 8/10\n",
      "367/367 [==============================] - 18s 48ms/step - loss: 0.0760 - acc: 0.9719\n",
      "Epoch 9/10\n",
      "367/367 [==============================] - 17s 47ms/step - loss: 0.0413 - acc: 0.9842\n",
      "Epoch 10/10\n",
      "367/367 [==============================] - 18s 48ms/step - loss: 0.0316 - acc: 0.9891\n"
     ]
    }
   ],
   "source": [
    "# Model build and train.\n",
    "\n",
    "model = Sequential([\n",
    "    # layers.experimental.preprocessing.Rescaling(input_shape=(250, 450, 3)),\n",
    "    layers.Conv2D(16, 3, activation='relu'),\n",
    "    layers.MaxPooling2D(),\n",
    "    layers.Conv2D(32, 3, activation='relu'),\n",
    "    layers.MaxPooling2D(),\n",
    "    layers.Conv2D(64, 3, activation='relu'),\n",
    "    layers.MaxPooling2D(),\n",
    "    layers.Flatten(),\n",
    "    layers.Dense(64, activation=\"relu\"),\n",
    "    layers.Dense(32, activation=\"relu\"),\n",
    "    layers.Dense(1, activation=\"sigmoid\")\n",
    "])\n",
    "\n",
    "path = \"C:/Users/ad/Desktop/Github/AI-Stock-Prediction/Model/models/15minute.h5\"\n",
    "# checkpoint_dir = os.path.dirname(checkpoint_path)\n",
    "# cp_callback = tf.keras.callbacks.ModelCheckpoint(filepath=checkpoint_dir,\n",
    "#                                    save_weights_only=True,\n",
    "#                                    verbose=1,\n",
    "#                                    period=3)\n",
    "\n",
    "model.compile(optimizer='adam',\n",
    "              loss=tf.keras.losses.BinaryCrossentropy(from_logits=True),\n",
    "              metrics=['acc'])\n",
    "\n",
    "model.fit(X_train, \n",
    "          y_train,\n",
    "          batch_size=10,\n",
    "          epochs=10)\n",
    "\n",
    "model.save(path)"
   ]
  },
  {
   "cell_type": "code",
   "execution_count": 10,
   "id": "573d35b6",
   "metadata": {},
   "outputs": [
    {
     "ename": "NameError",
     "evalue": "name 'model' is not defined",
     "output_type": "error",
     "traceback": [
      "\u001b[1;31m---------------------------------------------------------------------------\u001b[0m",
      "\u001b[1;31mNameError\u001b[0m                                 Traceback (most recent call last)",
      "\u001b[1;32m~\\AppData\\Local\\Temp/ipykernel_3208/1477810625.py\u001b[0m in \u001b[0;36m<module>\u001b[1;34m\u001b[0m\n\u001b[1;32m----> 1\u001b[1;33m \u001b[0mmodel\u001b[0m\u001b[1;33m.\u001b[0m\u001b[0mevaluate\u001b[0m\u001b[1;33m(\u001b[0m\u001b[0mimages\u001b[0m\u001b[1;33m,\u001b[0m  \u001b[0mlabels\u001b[0m\u001b[1;33m,\u001b[0m \u001b[0mverbose\u001b[0m\u001b[1;33m=\u001b[0m\u001b[1;36m1\u001b[0m\u001b[1;33m)\u001b[0m\u001b[1;33m\u001b[0m\u001b[1;33m\u001b[0m\u001b[0m\n\u001b[0m",
      "\u001b[1;31mNameError\u001b[0m: name 'model' is not defined"
     ]
    }
   ],
   "source": [
    "model.evaluate(images,  labels, verbose=1)"
   ]
  },
  {
   "cell_type": "code",
   "execution_count": 21,
   "id": "1315b940",
   "metadata": {},
   "outputs": [
    {
     "data": {
      "text/plain": [
       "array([[1.1351049e-06],\n",
       "       [9.4667673e-01],\n",
       "       [4.8175454e-04],\n",
       "       [9.9950856e-01],\n",
       "       [9.8243684e-01],\n",
       "       [9.8849308e-01],\n",
       "       [9.9996114e-01],\n",
       "       [1.0000000e+00],\n",
       "       [4.8908889e-03],\n",
       "       [5.2794814e-04],\n",
       "       [9.1266266e-09],\n",
       "       [8.1689330e-05],\n",
       "       [1.0000000e+00],\n",
       "       [9.9716020e-01],\n",
       "       [9.8777175e-01],\n",
       "       [9.9999082e-01],\n",
       "       [5.3330673e-09],\n",
       "       [1.0000000e+00],\n",
       "       [1.0196024e-08],\n",
       "       [9.1772455e-01]], dtype=float32)"
      ]
     },
     "execution_count": 21,
     "metadata": {},
     "output_type": "execute_result"
    }
   ],
   "source": [
    "model.predict(images[:20])"
   ]
  }
 ],
 "metadata": {
  "kernelspec": {
   "display_name": "Python 3 (ipykernel)",
   "language": "python",
   "name": "python3"
  },
  "language_info": {
   "codemirror_mode": {
    "name": "ipython",
    "version": 3
   },
   "file_extension": ".py",
   "mimetype": "text/x-python",
   "name": "python",
   "nbconvert_exporter": "python",
   "pygments_lexer": "ipython3",
   "version": "3.9.7"
  }
 },
 "nbformat": 4,
 "nbformat_minor": 5
}

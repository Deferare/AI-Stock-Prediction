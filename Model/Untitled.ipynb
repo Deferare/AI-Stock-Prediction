{
 "cells": [
  {
   "cell_type": "code",
   "execution_count": 1,
   "id": "8eead81c",
   "metadata": {},
   "outputs": [
    {
     "name": "stdout",
     "output_type": "stream",
     "text": [
      "      0\n",
      "0     0\n",
      "1     1\n",
      "2     0\n",
      "3     0\n",
      "4     1\n",
      "...  ..\n",
      "1277  1\n",
      "1278  1\n",
      "1279  1\n",
      "1280  1\n",
      "1281  0\n",
      "\n",
      "[1282 rows x 1 columns]\n",
      "0\n"
     ]
    },
    {
     "data": {
      "image/png": "[encoded data removed]",
      "text/plain": [
       "<Figure size 432x288 with 1 Axes>"
      ]
     },
     "metadata": {
      "needs_background": "light"
     },
     "output_type": "display_data"
    },
    {
     "name": "stdout",
     "output_type": "stream",
     "text": [
      "(1282, 250, 450, 3)\n",
      "(1282,)\n",
      "(1025, 250, 450, 3)   (1025,)\n",
      "Epoch 1/25\n"
     ]
    },
    {
     "name": "stderr",
     "output_type": "stream",
     "text": [
      "C:\\ProgramData\\Anaconda3\\envs\\Tensorflow\\lib\\site-packages\\tensorflow\\python\\keras\\backend.py:5029: UserWarning: \"`binary_crossentropy` received `from_logits=True`, but the `output` argument was produced by a sigmoid or softmax activation and thus does not represent logits. Was this intended?\"\n",
      "  warnings.warn(\n"
     ]
    },
    {
     "name": "stdout",
     "output_type": "stream",
     "text": [
      "103/103 [==============================] - 20s 190ms/step - loss: 0.6945 - accuracy: 0.4937\n",
      "Epoch 2/25\n",
      "103/103 [==============================] - 19s 185ms/step - loss: 0.6934 - accuracy: 0.4966\n",
      "Epoch 3/25\n",
      "103/103 [==============================] - 20s 193ms/step - loss: 0.6937 - accuracy: 0.5024\n",
      "Epoch 4/25\n",
      "103/103 [==============================] - 19s 189ms/step - loss: 0.6934 - accuracy: 0.4927\n",
      "Epoch 5/25\n",
      "103/103 [==============================] - 20s 195ms/step - loss: 0.6929 - accuracy: 0.5093\n",
      "Epoch 6/25\n",
      "103/103 [==============================] - 20s 193ms/step - loss: 0.6926 - accuracy: 0.5434\n",
      "Epoch 7/25\n",
      "103/103 [==============================] - 20s 196ms/step - loss: 0.6770 - accuracy: 0.5649\n",
      "Epoch 8/25\n",
      "103/103 [==============================] - 17s 166ms/step - loss: 0.6934 - accuracy: 0.5093\n",
      "Epoch 9/25\n",
      "103/103 [==============================] - 17s 161ms/step - loss: 0.6925 - accuracy: 0.5220\n",
      "Epoch 10/25\n",
      "103/103 [==============================] - 17s 160ms/step - loss: 0.6722 - accuracy: 0.5600\n",
      "Epoch 11/25\n",
      "103/103 [==============================] - 17s 165ms/step - loss: 0.6447 - accuracy: 0.6107\n",
      "Epoch 12/25\n",
      "103/103 [==============================] - 17s 162ms/step - loss: 0.5941 - accuracy: 0.6702\n",
      "Epoch 13/25\n",
      "103/103 [==============================] - 17s 166ms/step - loss: 0.4942 - accuracy: 0.7571\n",
      "Epoch 14/25\n",
      "103/103 [==============================] - 17s 164ms/step - loss: 0.3623 - accuracy: 0.8439\n",
      "Epoch 15/25\n",
      "103/103 [==============================] - 17s 164ms/step - loss: 0.2103 - accuracy: 0.9151\n",
      "Epoch 16/25\n",
      "103/103 [==============================] - 16s 159ms/step - loss: 0.1073 - accuracy: 0.9590\n",
      "Epoch 17/25\n",
      "103/103 [==============================] - 17s 162ms/step - loss: 0.0349 - accuracy: 0.9873\n",
      "Epoch 18/25\n",
      "103/103 [==============================] - 17s 161ms/step - loss: 0.0430 - accuracy: 0.9863\n",
      "Epoch 19/25\n",
      "103/103 [==============================] - 17s 163ms/step - loss: 0.0186 - accuracy: 0.9951\n",
      "Epoch 20/25\n",
      "103/103 [==============================] - 17s 162ms/step - loss: 0.0462 - accuracy: 0.9815\n",
      "Epoch 21/25\n",
      "103/103 [==============================] - 17s 161ms/step - loss: 0.0466 - accuracy: 0.9844\n",
      "Epoch 22/25\n",
      "103/103 [==============================] - 16s 158ms/step - loss: 0.0152 - accuracy: 0.9961\n",
      "Epoch 23/25\n",
      "103/103 [==============================] - 17s 161ms/step - loss: 0.0062 - accuracy: 1.0000\n",
      "Epoch 24/25\n",
      "103/103 [==============================] - 17s 161ms/step - loss: 0.0069 - accuracy: 0.9980\n",
      "Epoch 25/25\n",
      "103/103 [==============================] - 16s 160ms/step - loss: 0.0035 - accuracy: 1.0000\n"
     ]
    },
    {
     "data": {
      "text/plain": [
       "<tensorflow.python.keras.callbacks.History at 0x256b7cdb730>"
      ]
     },
     "execution_count": 1,
     "metadata": {},
     "output_type": "execute_result"
    }
   ],
   "source": [
    "import matplotlib.pyplot as plt\n",
    "import numpy as np\n",
    "import tensorflow as tf\n",
    "import pandas as pd\n",
    "from PIL import Image\n",
    "from sklearn.model_selection import train_test_split\n",
    "from tensorflow.keras import layers\n",
    "from tensorflow.keras.models import Sequential\n",
    "import sys\n",
    "sys.setrecursionlimit(100000)\n",
    "\n",
    "lable_path = \"C:/Users/ad/Desktop/Github/AI-Stock-Prediction/ImageData/Lables/Lables_0.xlsx\"\n",
    "labels = pd.read_excel(lable_path)\n",
    "images = []\n",
    "check = 0\n",
    "print(labels)\n",
    "for crnt in labels[0]:\n",
    "    if crnt == 3:\n",
    "        check += 1\n",
    "print(check)\n",
    "for i in range(len(labels)):\n",
    "    image_path = f\"C:/Users/ad/Desktop/Github/AI-Stock-Prediction/ImageData/Features/{i}.jpg\"\n",
    "    image = Image.open(image_path)\n",
    "    image = Image.Image.resize(image, (450, 250))\n",
    "    images.append(np.array(image)/255.0)\n",
    "plt.imshow(images[10])\n",
    "plt.show()\n",
    "\n",
    "images = np.array(images)\n",
    "labels = np.array(labels).reshape(-1,)\n",
    "print(images.shape)\n",
    "print(labels.shape)\n",
    "X_train, X_test, y_train, y_test = train_test_split(images, labels, test_size=0.2, random_state=1)\n",
    "print(X_train.shape, \" \", y_train.shape)\n",
    "\n",
    "\n",
    "model = Sequential([\n",
    "    # layers.experimental.preprocessing.Rescaling(input_shape=(250, 450, 3)),\n",
    "    layers.Conv2D(4, 3, activation='relu'),\n",
    "    layers.MaxPooling2D(),\n",
    "    layers.Conv2D(8, 3, activation='relu'),\n",
    "    layers.MaxPooling2D(),\n",
    "    layers.Conv2D(16, 3, activation='relu'),\n",
    "    layers.MaxPooling2D(),\n",
    "    layers.Conv2D(32, 3, activation='relu'),\n",
    "    layers.MaxPooling2D(),\n",
    "    layers.Conv2D(64, 3, activation='relu'),\n",
    "    layers.MaxPooling2D(),\n",
    "    layers.Flatten(),\n",
    "    layers.Dense(64, activation=\"relu\"),\n",
    "    layers.Dense(32, activation=\"relu\"),\n",
    "    layers.Dense(1, activation=\"sigmoid\")\n",
    "])\n",
    "\n",
    "model.compile(optimizer='adam',\n",
    "              loss=tf.keras.losses.BinaryCrossentropy(from_logits=True),\n",
    "              metrics=['accuracy'])\n",
    "epochs=25\n",
    "model.fit(X_train, y_train, batch_size=10, epochs=epochs)"
   ]
  },
  {
   "cell_type": "code",
   "execution_count": null,
   "id": "573d35b6",
   "metadata": {},
   "outputs": [],
   "source": []
  }
 ],
 "metadata": {
  "kernelspec": {
   "display_name": "Python 3 (ipykernel)",
   "language": "python",
   "name": "python3"
  },
  "language_info": {
   "codemirror_mode": {
    "name": "ipython",
    "version": 3
   },
   "file_extension": ".py",
   "mimetype": "text/x-python",
   "name": "python",
   "nbconvert_exporter": "python",
   "pygments_lexer": "ipython3",
   "version": "3.9.7"
  }
 },
 "nbformat": 4,
 "nbformat_minor": 5
}
